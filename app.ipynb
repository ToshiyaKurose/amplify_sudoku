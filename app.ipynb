{
 "cells": [
  {
   "cell_type": "markdown",
   "id": "517bba5e",
   "metadata": {},
   "source": [
    "# Fixstars Amplify AEによる数独ソルバー"
   ]
  },
  {
   "cell_type": "markdown",
   "id": "e9cdcb8a",
   "metadata": {},
   "source": [
    "## イジングマシンの設定"
   ]
  },
  {
   "cell_type": "code",
   "execution_count": 1,
   "id": "0af46c93",
   "metadata": {},
   "outputs": [],
   "source": [
    "from amplify import Solver\n",
    "from amplify.client import FixstarsClient\n",
    "from dotenv import load_dotenv\n",
    "import os\n",
    "\n",
    "#.env ファイルをロードして環境変数へ反映\n",
    "load_dotenv(override=True)\n",
    "\n",
    "client = FixstarsClient()\n",
    "client.token = os.getenv('TOKEN')\n",
    "client.parameters.timeout = 1000 #タイムアウト1秒\n",
    "\n",
    "solver = Solver(client)"
   ]
  },
  {
   "cell_type": "markdown",
   "id": "fe0e45fd",
   "metadata": {},
   "source": [
    "## 関数類の定義"
   ]
  },
  {
   "cell_type": "code",
   "execution_count": 2,
   "id": "84b36160",
   "metadata": {},
   "outputs": [],
   "source": [
    "import numpy as np\n",
    "from amplify import (\n",
    "    BinaryQuadraticModel,\n",
    "    BinarySymbolGenerator,\n",
    "    decode_solution,\n",
    "    sum_poly\n",
    ")\n",
    "from amplify.constraint import one_hot\n",
    "\n",
    "def print_sudoku(data):\n",
    "    #数独データの表示関数\n",
    "    for i in range(len(data)):\n",
    "        line = \"\"\n",
    "        if i == 3 or i == 6:\n",
    "            print(\"---------------------\")\n",
    "        for j in range(len(data[i])):\n",
    "            if j == 3 or j == 6:\n",
    "                line += \"| \"\n",
    "            line += str(data[i][j]) + \" \"\n",
    "        print(line)\n",
    "\n",
    "def solve(sudoku):\n",
    "    #QUBO模型の作成\n",
    "    gen = BinarySymbolGenerator()\n",
    "    q = gen.array(9, 9, 9)\n",
    "    \n",
    "    #与えられた数独データの変換(確定している数字を埋め、あり得ない候補を除外)\n",
    "    for i, j in zip(*np.where(sudoku != 0)):\n",
    "        k = sudoku[i, j] - 1\n",
    "        q[i, :, k] = 0\n",
    "        q[:, j, k] = 0\n",
    "        q[i, j, :] = 0\n",
    "        for m in range(9):\n",
    "            q[(3 * (i // 3) + m // 3), (3 * (j // 3) + m % 3), k] = 0\n",
    "        q[i, j, k] = 1\n",
    "    \n",
    "    #一つのマスには一つの数字しか入らない制約条件\n",
    "    num_constraints = [one_hot(q[i, j, :]) for i in range(9) for j in range(9)]\n",
    "    #各行,列には同じ数字が入らない制約条件\n",
    "    row_constraints = [one_hot(q[i, :, k]) for i in range(9) for k in range(9)]\n",
    "    col_constraints = [one_hot(q[:, j, k]) for j in range(9) for k in range(9)]\n",
    "    #3x3ブロック内には同じ数字が入らない制約条件\n",
    "    block_constraints = [\n",
    "        one_hot(sum([q[i + m // 3, j + m % 3, k] for m in range(9)]))\n",
    "        for i in range(0, 9, 3)\n",
    "        for j in range(0, 9, 3)\n",
    "        for k in range(9)\n",
    "    ]\n",
    "    \n",
    "    #制約条件の合計\n",
    "    constraints = (\n",
    "        sum(num_constraints)\n",
    "        + sum(row_constraints)\n",
    "        + sum(col_constraints)\n",
    "        + sum(block_constraints)\n",
    "    )\n",
    "    \n",
    "    #モデル作成\n",
    "    model = BinaryQuadraticModel(constraints)\n",
    "    \n",
    "    #計算\n",
    "    result = solver.solve(model)\n",
    "    if len(result) == 0:\n",
    "        raise RuntimeError(\"Some of the constraints are not satisfied.\")\n",
    "    \n",
    "    #結果の整形\n",
    "    values = result[0].values\n",
    "    q_values = q.decode(values)\n",
    "    answer = np.array([np.where(np.array(q_values[i]) != 0)[1] + 1 for i in range(9)])\n",
    "    return answer"
   ]
  },
  {
   "cell_type": "markdown",
   "id": "363a0e37",
   "metadata": {},
   "source": [
    "## 問題の定義及び演算"
   ]
  },
  {
   "cell_type": "code",
   "execution_count": 3,
   "id": "94a81ad9",
   "metadata": {},
   "outputs": [
    {
     "name": "stdout",
     "output_type": "stream",
     "text": [
      "問題\n",
      "3 0 0 | 0 1 0 | 0 0 6 \n",
      "1 0 5 | 0 0 0 | 7 0 2 \n",
      "0 0 0 | 5 0 8 | 0 0 0 \n",
      "---------------------\n",
      "0 0 3 | 0 0 0 | 9 0 0 \n",
      "5 9 0 | 0 7 0 | 0 2 4 \n",
      "7 0 1 | 9 0 4 | 8 0 5 \n",
      "---------------------\n",
      "0 0 0 | 3 0 2 | 0 0 0 \n",
      "0 0 4 | 7 0 1 | 5 0 0 \n",
      "0 0 0 | 0 6 0 | 0 0 0 \n",
      "解答\n",
      "3 8 9 | 2 1 7 | 4 5 6 \n",
      "1 4 5 | 6 3 9 | 7 8 2 \n",
      "6 7 2 | 5 4 8 | 3 1 9 \n",
      "---------------------\n",
      "4 2 3 | 8 5 6 | 9 7 1 \n",
      "5 9 8 | 1 7 3 | 6 2 4 \n",
      "7 6 1 | 9 2 4 | 8 3 5 \n",
      "---------------------\n",
      "9 5 6 | 3 8 2 | 1 4 7 \n",
      "2 3 4 | 7 9 1 | 5 6 8 \n",
      "8 1 7 | 4 6 5 | 2 9 3 \n"
     ]
    }
   ],
   "source": [
    "question = np.array(\n",
    "    [\n",
    "        [3,0,0,0,1,0,0,0,6],\n",
    "        [1,0,5,0,0,0,7,0,2],\n",
    "        [0,0,0,5,0,8,0,0,0],\n",
    "        [0,0,3,0,0,0,9,0,0],\n",
    "        [5,9,0,0,7,0,0,2,4],\n",
    "        [7,0,1,9,0,4,8,0,5],\n",
    "        [0,0,0,3,0,2,0,0,0],\n",
    "        [0,0,4,7,0,1,5,0,0],\n",
    "        [0,0,0,0,6,0,0,0,0]\n",
    "    ]\n",
    ")\n",
    "\n",
    "print('問題')\n",
    "print_sudoku(question)\n",
    "print('解答')\n",
    "answer = solve(question)\n",
    "print_sudoku(answer)"
   ]
  }
 ],
 "metadata": {
  "kernelspec": {
   "display_name": "Python 3 (ipykernel)",
   "language": "python",
   "name": "python3"
  },
  "language_info": {
   "codemirror_mode": {
    "name": "ipython",
    "version": 3
   },
   "file_extension": ".py",
   "mimetype": "text/x-python",
   "name": "python",
   "nbconvert_exporter": "python",
   "pygments_lexer": "ipython3",
   "version": "3.10.6"
  }
 },
 "nbformat": 4,
 "nbformat_minor": 5
}
